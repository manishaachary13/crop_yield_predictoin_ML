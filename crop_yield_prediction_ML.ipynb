{
  "nbformat": 4,
  "nbformat_minor": 0,
  "metadata": {
    "colab": {
      "provenance": [],
      "collapsed_sections": [
        "72Qne5qBXyYC",
        "zE-TQVJ6bf9L",
        "tDj8gcTTbk6b",
        "rg2mBv7sbqyb",
        "dG-uANQrcZEL",
        "XepYt2abcdXz",
        "9tX81biRckPL",
        "6Z07AcaVfzo7",
        "VxSf-X26ftsL",
        "DZW4jNXLfpFr",
        "BWdg8vICfjM7",
        "B9wL_hkhfXnj",
        "sgstPpdXg-ML",
        "l0jaoG0EhLmb"
      ],
      "authorship_tag": "ABX9TyM+eN0DyGgaxX6z+tbv9iXY",
      "include_colab_link": true
    },
    "kernelspec": {
      "name": "python3",
      "display_name": "Python 3"
    },
    "language_info": {
      "name": "python"
    }
  },
  "cells": [
    {
      "cell_type": "markdown",
      "metadata": {
        "id": "view-in-github",
        "colab_type": "text"
      },
      "source": [
        "<a href=\"https://colab.research.google.com/github/manishaachary13/crop_yield_predictoin_ML/blob/main/crop_yield_prediction_ML.ipynb\" target=\"_parent\"><img src=\"https://colab.research.google.com/assets/colab-badge.svg\" alt=\"Open In Colab\"/></a>"
      ]
    },
    {
      "cell_type": "markdown",
      "source": [
        "# **Crop Yield Prediction**"
      ],
      "metadata": {
        "id": "oZSzV4Ljs6he"
      }
    },
    {
      "cell_type": "markdown",
      "source": [
        "## **Problem Statement**"
      ],
      "metadata": {
        "id": "FWRY8V6PtJat"
      }
    },
    {
      "cell_type": "markdown",
      "source": [
        "**Crop yield prediction** is critical for optimizing agricultural productivity and addressing food security challenges. This project aims to leverage historical agricultural data to develop a predictive model that accurately forecasts crop yields for different regions and crops. The dataset includes features such as geographic area, crop type, and temporal factors (e.g., year), along with historical yield values."
      ],
      "metadata": {
        "id": "iIPFM76VXsEz"
      }
    },
    {
      "cell_type": "markdown",
      "source": [
        "### **Business Objectives**"
      ],
      "metadata": {
        "id": "PSrTC6MvXsy7"
      }
    },
    {
      "cell_type": "markdown",
      "source": [
        "The primary objective is to build a machine learning model to predict crop yields based on the provided features, enabling stakeholders to:\n",
        "\n",
        "1. **Optimize Resource Allocation:** Improve decision-making related to the distribution of resources such as fertilizers, water, and labor across regions.\n",
        "2. **Enhance Food Security**: Provide reliable yield predictions to governments, NGOs, and agricultural organizations to prepare for potential shortages or surpluses.\n",
        "3. **Support Sustainable Farming:** Enable farmers to adopt practices that enhance productivity while minimizing environmental impact.\n",
        "4. **Strategic Planning**: Aid policymakers and agricultural planners in forecasting and planning at national or regional levels, reducing risks related to climate change, pests, or diseases."
      ],
      "metadata": {
        "id": "pfamEkFWYc-K"
      }
    },
    {
      "cell_type": "markdown",
      "source": [
        "## **Load and Inspect Dataset**"
      ],
      "metadata": {
        "id": "72Qne5qBXyYC"
      }
    },
    {
      "cell_type": "markdown",
      "source": [
        "#### Import Libraries"
      ],
      "metadata": {
        "id": "zE-TQVJ6bf9L"
      }
    },
    {
      "cell_type": "code",
      "source": [
        "# Basic Libraries\n",
        "import numpy as np  # For numerical computations and array manipulations\n",
        "import pandas as pd  # For data manipulation and analysis\n",
        "# Data Visualization\n",
        "import matplotlib.pyplot as plt  # For creating static plots and visualizations\n",
        "import seaborn as sns  # For advanced and aesthetic data visualizations\n",
        "# Data Preprocessing and Feature Engineering\n",
        "from sklearn.model_selection import train_test_split  # To split the dataset into training and testing sets\n",
        "from sklearn.preprocessing import StandardScaler, MinMaxScaler  # For feature scaling (normalization and standardization)\n",
        "from sklearn.preprocessing import OneHotEncoder, LabelEncoder  # For encoding categorical variables\n",
        "# Machine Learning Models\n",
        "from sklearn.linear_model import LinearRegression  # Simple linear regression model (baseline)\n",
        "from sklearn.ensemble import RandomForestRegressor, GradientBoostingRegressor  # Advanced ensemble models\n",
        "from xgboost import XGBRegressor  # Extreme Gradient Boosting model\n",
        "from lightgbm import LGBMRegressor  # Light Gradient Boosting Machine\n",
        "\n",
        "# Model Evaluation Metrics\n",
        "from sklearn.metrics import mean_squared_error, mean_absolute_error, r2_score  # Metrics for regression evaluation\n",
        "# Hyperparameter Optimization\n",
        "from sklearn.model_selection import GridSearchCV, RandomizedSearchCV  # Tools for tuning model hyperparameters\n",
        "# Utility Libraries\n",
        "import warnings  # For handling warnings\n",
        "warnings.filterwarnings('ignore')  # Ignore warnings for cleaner notebook outputs\n"
      ],
      "metadata": {
        "id": "P3ofhHqzZo6L"
      },
      "execution_count": 2,
      "outputs": []
    },
    {
      "cell_type": "markdown",
      "source": [
        "#### Load Dataset"
      ],
      "metadata": {
        "id": "tDj8gcTTbk6b"
      }
    },
    {
      "cell_type": "code",
      "source": [
        "# Load Dataset\n",
        "from google.colab import drive\n",
        "\n",
        "# Mount Google Drive\n",
        "drive.mount('/content/drive', force_remount=True)\n",
        "# load dataset\n",
        "file_path = '/content/drive/MyDrive/dataset/yield.csv'"
      ],
      "metadata": {
        "colab": {
          "base_uri": "https://localhost:8080/"
        },
        "id": "XdVpDh26Zmbz",
        "outputId": "bc19a864-507a-4a16-bedc-2acf6b1db502"
      },
      "execution_count": 6,
      "outputs": [
        {
          "output_type": "stream",
          "name": "stdout",
          "text": [
            "Mounted at /content/drive\n"
          ]
        }
      ]
    },
    {
      "cell_type": "markdown",
      "source": [
        "#### Dataset First Look"
      ],
      "metadata": {
        "id": "rg2mBv7sbqyb"
      }
    },
    {
      "cell_type": "code",
      "source": [
        "# Dataset First Look\n",
        "encodings = ['utf-8', 'latin1', 'ISO-8859-1', 'utf-16']\n",
        "for encoding in encodings:\n",
        "    try:\n",
        "        crop = pd.read_csv(file_path, encoding=encoding)\n",
        "        print(\"CSV file read successfully using encoding:\", encoding)\n",
        "        break\n",
        "    except UnicodeDecodeError:\n",
        "        print(\"Error decoding with encoding:\", encoding)"
      ],
      "metadata": {
        "colab": {
          "base_uri": "https://localhost:8080/"
        },
        "id": "bEPY_qhEbFuL",
        "outputId": "90c31e44-b592-4251-b7d2-34ff1fb73e71"
      },
      "execution_count": 7,
      "outputs": [
        {
          "output_type": "stream",
          "name": "stdout",
          "text": [
            "CSV file read successfully using encoding: utf-8\n"
          ]
        }
      ]
    },
    {
      "cell_type": "code",
      "source": [
        "# Display the first 5 rows of the dataset\n",
        "print(\"First 5 rows of the dataset:\")\n",
        "print(crop.head())"
      ],
      "metadata": {
        "colab": {
          "base_uri": "https://localhost:8080/"
        },
        "id": "e2RdPCg1b6G7",
        "outputId": "394f4b88-aa05-4203-bd8a-3ba65e3af829"
      },
      "execution_count": 8,
      "outputs": [
        {
          "output_type": "stream",
          "name": "stdout",
          "text": [
            "First 5 rows of the dataset:\n",
            "  Domain Code Domain  Area Code         Area  Element Code Element  Item Code  \\\n",
            "0          QC  Crops          2  Afghanistan          5419   Yield         56   \n",
            "1          QC  Crops          2  Afghanistan          5419   Yield         56   \n",
            "2          QC  Crops          2  Afghanistan          5419   Yield         56   \n",
            "3          QC  Crops          2  Afghanistan          5419   Yield         56   \n",
            "4          QC  Crops          2  Afghanistan          5419   Yield         56   \n",
            "\n",
            "    Item  Year Code  Year   Unit  Value  \n",
            "0  Maize       1961  1961  hg/ha  14000  \n",
            "1  Maize       1962  1962  hg/ha  14000  \n",
            "2  Maize       1963  1963  hg/ha  14260  \n",
            "3  Maize       1964  1964  hg/ha  14257  \n",
            "4  Maize       1965  1965  hg/ha  14400  \n"
          ]
        }
      ]
    },
    {
      "cell_type": "code",
      "source": [
        "# Display the last 5 rows of the dataset\n",
        "print(\"Last 5 rows of the dataset:\")\n",
        "print(crop.tail())"
      ],
      "metadata": {
        "colab": {
          "base_uri": "https://localhost:8080/"
        },
        "id": "WGCgdZXBb84b",
        "outputId": "419c1ed8-cf43-45fb-8099-da42a4985cda"
      },
      "execution_count": 9,
      "outputs": [
        {
          "output_type": "stream",
          "name": "stdout",
          "text": [
            "Last 5 rows of the dataset:\n",
            "      Domain Code Domain  Area Code      Area  Element Code Element  \\\n",
            "56712          QC  Crops        181  Zimbabwe          5419   Yield   \n",
            "56713          QC  Crops        181  Zimbabwe          5419   Yield   \n",
            "56714          QC  Crops        181  Zimbabwe          5419   Yield   \n",
            "56715          QC  Crops        181  Zimbabwe          5419   Yield   \n",
            "56716          QC  Crops        181  Zimbabwe          5419   Yield   \n",
            "\n",
            "       Item Code   Item  Year Code  Year   Unit  Value  \n",
            "56712         15  Wheat       2012  2012  hg/ha  24420  \n",
            "56713         15  Wheat       2013  2013  hg/ha  22888  \n",
            "56714         15  Wheat       2014  2014  hg/ha  21357  \n",
            "56715         15  Wheat       2015  2015  hg/ha  19826  \n",
            "56716         15  Wheat       2016  2016  hg/ha  18294  \n"
          ]
        }
      ]
    },
    {
      "cell_type": "markdown",
      "source": [
        "#### Dataset shape"
      ],
      "metadata": {
        "id": "dG-uANQrcZEL"
      }
    },
    {
      "cell_type": "code",
      "source": [
        "# Display the number of rows and columns\n",
        "rows, columns = crop.shape-+\n",
        "print(f\"The dataset contains {rows} rows and {columns} columns.\")\n"
      ],
      "metadata": {
        "colab": {
          "base_uri": "https://localhost:8080/"
        },
        "id": "Yv0onAUocHP7",
        "outputId": "f9d76e37-f4c3-49f6-9141-edbbb1755842"
      },
      "execution_count": 10,
      "outputs": [
        {
          "output_type": "stream",
          "name": "stdout",
          "text": [
            "The dataset contains 56717 rows and 12 columns.\n"
          ]
        }
      ]
    },
    {
      "cell_type": "markdown",
      "source": [
        "#### Dataset column names"
      ],
      "metadata": {
        "id": "XepYt2abcdXz"
      }
    },
    {
      "cell_type": "code",
      "source": [
        "crop.columns"
      ],
      "metadata": {
        "colab": {
          "base_uri": "https://localhost:8080/"
        },
        "id": "A-Qo4fGgcNI7",
        "outputId": "efb5da05-006f-4c6e-9dbf-68b8df35e1cf"
      },
      "execution_count": 11,
      "outputs": [
        {
          "output_type": "execute_result",
          "data": {
            "text/plain": [
              "Index(['Domain Code', 'Domain', 'Area Code', 'Area', 'Element Code', 'Element',\n",
              "       'Item Code', 'Item', 'Year Code', 'Year', 'Unit', 'Value'],\n",
              "      dtype='object')"
            ]
          },
          "metadata": {},
          "execution_count": 11
        }
      ]
    },
    {
      "cell_type": "markdown",
      "source": [
        "#### Dataset Info"
      ],
      "metadata": {
        "id": "9tX81biRckPL"
      }
    },
    {
      "cell_type": "code",
      "source": [
        "# Display dataset information (data types, non-null counts, memory usage)\n",
        "print(\"Dataset Info:\")\n",
        "print(crop.info())\n"
      ],
      "metadata": {
        "colab": {
          "base_uri": "https://localhost:8080/"
        },
        "id": "IcxYX5SFcPL7",
        "outputId": "19c52fe2-5383-455f-fb2e-92dec3d3941b"
      },
      "execution_count": 12,
      "outputs": [
        {
          "output_type": "stream",
          "name": "stdout",
          "text": [
            "Dataset Info:\n",
            "<class 'pandas.core.frame.DataFrame'>\n",
            "RangeIndex: 56717 entries, 0 to 56716\n",
            "Data columns (total 12 columns):\n",
            " #   Column        Non-Null Count  Dtype \n",
            "---  ------        --------------  ----- \n",
            " 0   Domain Code   56717 non-null  object\n",
            " 1   Domain        56717 non-null  object\n",
            " 2   Area Code     56717 non-null  int64 \n",
            " 3   Area          56717 non-null  object\n",
            " 4   Element Code  56717 non-null  int64 \n",
            " 5   Element       56717 non-null  object\n",
            " 6   Item Code     56717 non-null  int64 \n",
            " 7   Item          56717 non-null  object\n",
            " 8   Year Code     56717 non-null  int64 \n",
            " 9   Year          56717 non-null  int64 \n",
            " 10  Unit          56717 non-null  object\n",
            " 11  Value         56717 non-null  int64 \n",
            "dtypes: int64(6), object(6)\n",
            "memory usage: 5.2+ MB\n",
            "None\n"
          ]
        }
      ]
    },
    {
      "cell_type": "markdown",
      "source": [
        "#### Dataset Description"
      ],
      "metadata": {
        "id": "6Z07AcaVfzo7"
      }
    },
    {
      "cell_type": "code",
      "source": [
        "print(crop.describe())\n"
      ],
      "metadata": {
        "colab": {
          "base_uri": "https://localhost:8080/"
        },
        "id": "BpFwBmFEdKvT",
        "outputId": "48af707a-68e6-4d3c-cf62-697ee8f6c330"
      },
      "execution_count": 14,
      "outputs": [
        {
          "output_type": "stream",
          "name": "stdout",
          "text": [
            "          Area Code  Element Code     Item Code     Year Code          Year  \\\n",
            "count  56717.000000       56717.0  56717.000000  56717.000000  56717.000000   \n",
            "mean     125.650422        5419.0    111.611651   1989.669570   1989.669570   \n",
            "std       75.120195           0.0    101.278435     16.133198     16.133198   \n",
            "min        1.000000        5419.0     15.000000   1961.000000   1961.000000   \n",
            "25%       58.000000        5419.0     56.000000   1976.000000   1976.000000   \n",
            "50%      122.000000        5419.0    116.000000   1991.000000   1991.000000   \n",
            "75%      184.000000        5419.0    125.000000   2004.000000   2004.000000   \n",
            "max      351.000000        5419.0    489.000000   2016.000000   2016.000000   \n",
            "\n",
            "                Value  \n",
            "count    56717.000000  \n",
            "mean     62094.660084  \n",
            "std      67835.932856  \n",
            "min          0.000000  \n",
            "25%      15680.000000  \n",
            "50%      36744.000000  \n",
            "75%      86213.000000  \n",
            "max    1000000.000000  \n"
          ]
        }
      ]
    },
    {
      "cell_type": "code",
      "source": [
        "print(crop.describe(include='object'))\n"
      ],
      "metadata": {
        "colab": {
          "base_uri": "https://localhost:8080/"
        },
        "id": "LT7buxgpdTbD",
        "outputId": "e5d18d58-ca56-4459-ac03-6a7a3e237cbb"
      },
      "execution_count": 16,
      "outputs": [
        {
          "output_type": "stream",
          "name": "stdout",
          "text": [
            "       Domain Code Domain                         Area Element   Item   Unit\n",
            "count        56717  56717                        56717   56717  56717  56717\n",
            "unique           1      1                          212       1     10      1\n",
            "top             QC  Crops  United Republic of Tanzania   Yield  Maize  hg/ha\n",
            "freq         56717  56717                          560   56717   8631  56717\n"
          ]
        }
      ]
    },
    {
      "cell_type": "markdown",
      "source": [
        "#### Null Values"
      ],
      "metadata": {
        "id": "VxSf-X26ftsL"
      }
    },
    {
      "cell_type": "code",
      "source": [
        "print(crop.isnull().sum())\n"
      ],
      "metadata": {
        "colab": {
          "base_uri": "https://localhost:8080/"
        },
        "id": "dKx_vcFKdZBb",
        "outputId": "73f0091c-7fe8-48b4-fac8-7619e6711004"
      },
      "execution_count": 17,
      "outputs": [
        {
          "output_type": "stream",
          "name": "stdout",
          "text": [
            "Domain Code     0\n",
            "Domain          0\n",
            "Area Code       0\n",
            "Area            0\n",
            "Element Code    0\n",
            "Element         0\n",
            "Item Code       0\n",
            "Item            0\n",
            "Year Code       0\n",
            "Year            0\n",
            "Unit            0\n",
            "Value           0\n",
            "dtype: int64\n"
          ]
        }
      ]
    },
    {
      "cell_type": "markdown",
      "source": [
        "#### Duplicate Rows"
      ],
      "metadata": {
        "id": "DZW4jNXLfpFr"
      }
    },
    {
      "cell_type": "code",
      "source": [
        "print(f\"Number of duplicate rows: {crop.duplicated().sum()}\")\n"
      ],
      "metadata": {
        "colab": {
          "base_uri": "https://localhost:8080/"
        },
        "id": "zPTxl5PXdlpb",
        "outputId": "b01f1d78-55a0-4f0e-927e-94dc49846738"
      },
      "execution_count": 19,
      "outputs": [
        {
          "output_type": "stream",
          "name": "stdout",
          "text": [
            "Number of duplicate rows: 0\n"
          ]
        }
      ]
    },
    {
      "cell_type": "markdown",
      "source": [
        "#### Unique Values"
      ],
      "metadata": {
        "id": "BWdg8vICfjM7"
      }
    },
    {
      "cell_type": "code",
      "source": [
        "for col in crop.select_dtypes(include=['object']).columns:\n",
        "    print(f\"{col}: {crop[col].nunique()} unique values\")\n",
        "    print(crop[col].value_counts(), \"\\n\")\n"
      ],
      "metadata": {
        "colab": {
          "base_uri": "https://localhost:8080/"
        },
        "id": "2cFKeE5Wdpvj",
        "outputId": "650ed335-f26d-4577-d528-92b76b291cc1"
      },
      "execution_count": 21,
      "outputs": [
        {
          "output_type": "stream",
          "name": "stdout",
          "text": [
            "Domain Code: 1 unique values\n",
            "Domain Code\n",
            "QC    56717\n",
            "Name: count, dtype: int64 \n",
            "\n",
            "Domain: 1 unique values\n",
            "Domain\n",
            "Crops    56717\n",
            "Name: count, dtype: int64 \n",
            "\n",
            "Area: 212 unique values\n",
            "Area\n",
            "United Republic of Tanzania           560\n",
            "Democratic Republic of the Congo      560\n",
            "Nigeria                               560\n",
            "Venezuela (Bolivarian Republic of)    532\n",
            "Cameroon                              528\n",
            "                                     ... \n",
            "Estonia                                50\n",
            "Djibouti                               36\n",
            "Sudan                                  35\n",
            "Montenegro                             33\n",
            "South Sudan                            20\n",
            "Name: count, Length: 212, dtype: int64 \n",
            "\n",
            "Element: 1 unique values\n",
            "Element\n",
            "Yield    56717\n",
            "Name: count, dtype: int64 \n",
            "\n",
            "Item: 10 unique values\n",
            "Item\n",
            "Maize                   8631\n",
            "Potatoes                7876\n",
            "Rice, paddy             6469\n",
            "Sweet potatoes          6356\n",
            "Wheat                   6160\n",
            "Cassava                 5718\n",
            "Sorghum                 5511\n",
            "Soybeans                4192\n",
            "Yams                    3150\n",
            "Plantains and others    2654\n",
            "Name: count, dtype: int64 \n",
            "\n",
            "Unit: 1 unique values\n",
            "Unit\n",
            "hg/ha    56717\n",
            "Name: count, dtype: int64 \n",
            "\n"
          ]
        }
      ]
    },
    {
      "cell_type": "code",
      "source": [
        "for col in ['Domain', 'Area', 'Element', 'Item', 'Unit']:\n",
        "    print(f\"Unique values in {col}: {crop[col].nunique()}\")\n",
        "    print(crop[col].value_counts().head(10), \"\\n\")\n"
      ],
      "metadata": {
        "colab": {
          "base_uri": "https://localhost:8080/"
        },
        "id": "KAk2geSmeWuL",
        "outputId": "f5d68374-d893-4637-89bc-4cad24989e11"
      },
      "execution_count": 25,
      "outputs": [
        {
          "output_type": "stream",
          "name": "stdout",
          "text": [
            "Unique values in Domain: 1\n",
            "Domain\n",
            "Crops    56717\n",
            "Name: count, dtype: int64 \n",
            "\n",
            "Unique values in Area: 212\n",
            "Area\n",
            "United Republic of Tanzania           560\n",
            "Democratic Republic of the Congo      560\n",
            "Nigeria                               560\n",
            "Venezuela (Bolivarian Republic of)    532\n",
            "Cameroon                              528\n",
            "Rwanda                                522\n",
            "Brazil                                504\n",
            "Colombia                              504\n",
            "Burundi                               504\n",
            "Peru                                  504\n",
            "Name: count, dtype: int64 \n",
            "\n",
            "Unique values in Element: 1\n",
            "Element\n",
            "Yield    56717\n",
            "Name: count, dtype: int64 \n",
            "\n",
            "Unique values in Item: 10\n",
            "Item\n",
            "Maize                   8631\n",
            "Potatoes                7876\n",
            "Rice, paddy             6469\n",
            "Sweet potatoes          6356\n",
            "Wheat                   6160\n",
            "Cassava                 5718\n",
            "Sorghum                 5511\n",
            "Soybeans                4192\n",
            "Yams                    3150\n",
            "Plantains and others    2654\n",
            "Name: count, dtype: int64 \n",
            "\n",
            "Unique values in Unit: 1\n",
            "Unit\n",
            "hg/ha    56717\n",
            "Name: count, dtype: int64 \n",
            "\n"
          ]
        }
      ]
    },
    {
      "cell_type": "markdown",
      "source": [
        "#### Column Dtypes"
      ],
      "metadata": {
        "id": "B9wL_hkhfXnj"
      }
    },
    {
      "cell_type": "code",
      "source": [
        "print(crop.dtypes)\n"
      ],
      "metadata": {
        "colab": {
          "base_uri": "https://localhost:8080/"
        },
        "id": "9nSCE5SDd6YT",
        "outputId": "e5a50f0f-e0ea-4738-bc94-0319d4698d36"
      },
      "execution_count": 24,
      "outputs": [
        {
          "output_type": "stream",
          "name": "stdout",
          "text": [
            "Domain Code     object\n",
            "Domain          object\n",
            "Area Code        int64\n",
            "Area            object\n",
            "Element Code     int64\n",
            "Element         object\n",
            "Item Code        int64\n",
            "Item            object\n",
            "Year Code        int64\n",
            "Year             int64\n",
            "Unit            object\n",
            "Value            int64\n",
            "dtype: object\n"
          ]
        }
      ]
    },
    {
      "cell_type": "code",
      "source": [
        "# Converting identifier-like numeric columns to object type\n",
        "columns_to_convert = ['Area Code', 'Element Code', 'Item Code', 'Year Code']\n",
        "crop[columns_to_convert] = crop[columns_to_convert].astype('object')\n",
        "\n",
        "# Verify the changes\n",
        "print(crop.dtypes)\n"
      ],
      "metadata": {
        "colab": {
          "base_uri": "https://localhost:8080/"
        },
        "id": "K_yV32UpfFgT",
        "outputId": "8bd7c64a-ae87-4952-ae12-482757cee6b8"
      },
      "execution_count": 26,
      "outputs": [
        {
          "output_type": "stream",
          "name": "stdout",
          "text": [
            "Domain Code     object\n",
            "Domain          object\n",
            "Area Code       object\n",
            "Area            object\n",
            "Element Code    object\n",
            "Element         object\n",
            "Item Code       object\n",
            "Item            object\n",
            "Year Code       object\n",
            "Year             int64\n",
            "Unit            object\n",
            "Value            int64\n",
            "dtype: object\n"
          ]
        }
      ]
    },
    {
      "cell_type": "code",
      "source": [
        "crop['Year'] = pd.to_datetime(crop['Year'], format='%Y')  # Example for date conversion\n"
      ],
      "metadata": {
        "id": "9Ztfk63_gDXz"
      },
      "execution_count": 27,
      "outputs": []
    },
    {
      "cell_type": "code",
      "source": [
        "print(crop.dtypes)  # check for dtypes"
      ],
      "metadata": {
        "colab": {
          "base_uri": "https://localhost:8080/"
        },
        "id": "7li6g7LYgKV7",
        "outputId": "8906ac95-dd8e-4a1c-f5f0-2c9a66c603ba"
      },
      "execution_count": 28,
      "outputs": [
        {
          "output_type": "stream",
          "name": "stdout",
          "text": [
            "Domain Code             object\n",
            "Domain                  object\n",
            "Area Code               object\n",
            "Area                    object\n",
            "Element Code            object\n",
            "Element                 object\n",
            "Item Code               object\n",
            "Item                    object\n",
            "Year Code               object\n",
            "Year            datetime64[ns]\n",
            "Unit                    object\n",
            "Value                    int64\n",
            "dtype: object\n"
          ]
        }
      ]
    },
    {
      "cell_type": "markdown",
      "source": [
        "#### Target value Distribution"
      ],
      "metadata": {
        "id": "sgstPpdXg-ML"
      }
    },
    {
      "cell_type": "code",
      "source": [
        "plt.hist(crop['Value'], bins=30, color='skyblue', edgecolor='black')\n",
        "plt.title('Distribution of Yield Values')\n",
        "plt.xlabel('Yield')\n",
        "plt.ylabel('Frequency')\n",
        "plt.show()\n"
      ],
      "metadata": {
        "colab": {
          "base_uri": "https://localhost:8080/",
          "height": 472
        },
        "id": "93BF5UK1gY6L",
        "outputId": "cc0d97e0-5540-4db8-9409-476d486f5564"
      },
      "execution_count": 29,
      "outputs": [
        {
          "output_type": "display_data",
          "data": {
            "text/plain": [
              "<Figure size 640x480 with 1 Axes>"
            ],
            "image/png": "[encoded data removed]"
          },
          "metadata": {}
        }
      ]
    },
    {
      "cell_type": "code",
      "source": [
        "print(f\"Value range: {crop['Value'].min()} - {crop['Value'].max()}\")\n",
        "sns.boxplot(crop['Value'])\n",
        "plt.title(\"Boxplot of Value\")\n",
        "plt.show()\n"
      ],
      "metadata": {
        "colab": {
          "base_uri": "https://localhost:8080/",
          "height": 450
        },
        "id": "H16801Z8iIGj",
        "outputId": "fe715de4-4072-4aa1-9274-e613a7a9b17e"
      },
      "execution_count": 37,
      "outputs": [
        {
          "output_type": "stream",
          "name": "stdout",
          "text": [
            "Value range: 0 - 1000000\n"
          ]
        },
        {
          "output_type": "display_data",
          "data": {
            "text/plain": [
              "<Figure size 640x480 with 1 Axes>"
            ],
            "image/png": "[encoded data removed]"
          },
          "metadata": {}
        }
      ]
    },
    {
      "cell_type": "markdown",
      "source": [
        "#### Value range(Yield)"
      ],
      "metadata": {
        "id": "l0jaoG0EhLmb"
      }
    },
    {
      "cell_type": "code",
      "source": [
        "print(f\"Yield Value range: {crop['Value'].min()} - {crop['Value'].max()}\")\n"
      ],
      "metadata": {
        "colab": {
          "base_uri": "https://localhost:8080/"
        },
        "id": "oE4Vh6srhEDj",
        "outputId": "527daed1-df96-4edf-832c-bff4223eb481"
      },
      "execution_count": 32,
      "outputs": [
        {
          "output_type": "stream",
          "name": "stdout",
          "text": [
            "Yield Value range: 0 - 1000000\n"
          ]
        }
      ]
    },
    {
      "cell_type": "markdown",
      "source": [
        "## **Clean and Prepare Data**"
      ],
      "metadata": {
        "id": "cbBS95QgYCXS"
      }
    },
    {
      "cell_type": "code",
      "source": [],
      "metadata": {
        "id": "TsfF1XFnYbta"
      },
      "execution_count": null,
      "outputs": []
    },
    {
      "cell_type": "markdown",
      "source": [
        "## **Exploratory Data Analysis(EDA)**"
      ],
      "metadata": {
        "id": "cC_Zn7LYYKO7"
      }
    },
    {
      "cell_type": "markdown",
      "source": [],
      "metadata": {
        "id": "rXBi8xjbYSQK"
      }
    },
    {
      "cell_type": "markdown",
      "source": [
        "## **Conclusion**"
      ],
      "metadata": {
        "id": "ksBY7DFXYgDj"
      }
    },
    {
      "cell_type": "markdown",
      "source": [],
      "metadata": {
        "id": "8jn7AV5ZYlK6"
      }
    }
  ]
}